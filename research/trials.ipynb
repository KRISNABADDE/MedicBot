{
 "cells": [
  {
   "cell_type": "code",
   "execution_count": 1,
   "metadata": {},
   "outputs": [
    {
     "name": "stderr",
     "output_type": "stream",
     "text": [
      "d:\\DSProjects\\MedicBot\\myenv\\Lib\\site-packages\\pinecone\\data\\index.py:1: TqdmWarning: IProgress not found. Please update jupyter and ipywidgets. See https://ipywidgets.readthedocs.io/en/stable/user_install.html\n",
      "  from tqdm.autonotebook import tqdm\n"
     ]
    }
   ],
   "source": [
    "from langchain.chains import RetrievalQA\n",
    "from langchain.embeddings import HuggingFaceEmbeddings\n",
    "#from langchain.vectorstores import Pinecoe\n",
    "from pinecone import Pinecone\n",
    "from langchain.document_loaders import PyPDFLoader, DirectoryLoader\n",
    "from langchain.text_splitter import RecursiveCharacterTextSplitter\n",
    "from langchain.prompts import PromptTemplate\n",
    "from langchain.llms import CTransformers"
   ]
  },
  {
   "cell_type": "code",
   "execution_count": 2,
   "metadata": {},
   "outputs": [],
   "source": [
    "PINECONE_API_KEY = \"4e3fee5e-29a5-46f2-96d5-f3b68a5e0a25\"\n",
    "PINECONE_API_ENV = \"gcp-starter\"\n",
    "INDEX_NAME = \"medicbot\""
   ]
  },
  {
   "cell_type": "code",
   "execution_count": 3,
   "metadata": {},
   "outputs": [],
   "source": [
    "import os\n",
    "os.environ['PINECONE_API_KEY'] = PINECONE_API_KEY"
   ]
  },
  {
   "cell_type": "code",
   "execution_count": 4,
   "metadata": {},
   "outputs": [],
   "source": [
    "### Initializins second way\n",
    "pc = Pinecone(api_key=PINECONE_API_KEY)\n",
    "index = pc.Index(\"medicbot\")"
   ]
  },
  {
   "cell_type": "code",
   "execution_count": null,
   "metadata": {},
   "outputs": [],
   "source": []
  },
  {
   "cell_type": "code",
   "execution_count": 5,
   "metadata": {},
   "outputs": [],
   "source": [
    "#Extract data from the PDF\n",
    "def load_pdf(data):\n",
    "    loader = DirectoryLoader(data,\n",
    "                    glob=\"*.pdf\",\n",
    "                    loader_cls=PyPDFLoader)\n",
    "    \n",
    "    documents = loader.load()\n",
    "\n",
    "    return documents"
   ]
  },
  {
   "cell_type": "code",
   "execution_count": 6,
   "metadata": {},
   "outputs": [],
   "source": [
    "extracted_data = load_pdf(\"D:\\DSProjects\\MedicBot\\data\")"
   ]
  },
  {
   "cell_type": "code",
   "execution_count": 7,
   "metadata": {},
   "outputs": [],
   "source": [
    "# extracted_data"
   ]
  },
  {
   "cell_type": "code",
   "execution_count": 8,
   "metadata": {},
   "outputs": [],
   "source": [
    "#Create text chunks\n",
    "def text_split(extracted_data):\n",
    "    text_splitter = RecursiveCharacterTextSplitter(chunk_size = 300, chunk_overlap = 25)\n",
    "    text_chunks = text_splitter.split_documents(extracted_data)\n",
    "\n",
    "    return text_chunks"
   ]
  },
  {
   "cell_type": "code",
   "execution_count": 9,
   "metadata": {},
   "outputs": [
    {
     "name": "stdout",
     "output_type": "stream",
     "text": [
      "length of my chunk: 12333\n"
     ]
    }
   ],
   "source": [
    "text_chunks = text_split(extracted_data)\n",
    "print(\"length of my chunk:\", len(text_chunks))"
   ]
  },
  {
   "cell_type": "code",
   "execution_count": 10,
   "metadata": {},
   "outputs": [],
   "source": [
    "#text_chunks"
   ]
  },
  {
   "cell_type": "code",
   "execution_count": 11,
   "metadata": {},
   "outputs": [],
   "source": [
    "#download embedding model\n",
    "def download_hugging_face_embeddings():\n",
    "    embeddings = HuggingFaceEmbeddings(model_name=\"sentence-transformers/all-MiniLM-L6-v2\")\n",
    "    return embeddings"
   ]
  },
  {
   "cell_type": "code",
   "execution_count": 12,
   "metadata": {},
   "outputs": [
    {
     "name": "stderr",
     "output_type": "stream",
     "text": [
      "d:\\DSProjects\\MedicBot\\myenv\\Lib\\site-packages\\huggingface_hub\\file_download.py:1132: FutureWarning: `resume_download` is deprecated and will be removed in version 1.0.0. Downloads always resume when possible. If you want to force a new download, use `force_download=True`.\n",
      "  warnings.warn(\n",
      "d:\\DSProjects\\MedicBot\\myenv\\Lib\\site-packages\\huggingface_hub\\file_download.py:1132: FutureWarning: `resume_download` is deprecated and will be removed in version 1.0.0. Downloads always resume when possible. If you want to force a new download, use `force_download=True`.\n",
      "  warnings.warn(\n"
     ]
    }
   ],
   "source": [
    "embeddings = download_hugging_face_embeddings()"
   ]
  },
  {
   "cell_type": "code",
   "execution_count": 13,
   "metadata": {},
   "outputs": [
    {
     "data": {
      "text/plain": [
       "HuggingFaceEmbeddings(client=SentenceTransformer(\n",
       "  (0): Transformer({'max_seq_length': 256, 'do_lower_case': False}) with Transformer model: BertModel \n",
       "  (1): Pooling({'word_embedding_dimension': 384, 'pooling_mode_cls_token': False, 'pooling_mode_mean_tokens': True, 'pooling_mode_max_tokens': False, 'pooling_mode_mean_sqrt_len_tokens': False, 'pooling_mode_weightedmean_tokens': False, 'pooling_mode_lasttoken': False, 'include_prompt': True})\n",
       "  (2): Normalize()\n",
       "), model_name='sentence-transformers/all-MiniLM-L6-v2', cache_folder=None, model_kwargs={}, encode_kwargs={}, multi_process=False, show_progress=False)"
      ]
     },
     "execution_count": 13,
     "metadata": {},
     "output_type": "execute_result"
    }
   ],
   "source": [
    "embeddings"
   ]
  },
  {
   "cell_type": "code",
   "execution_count": 14,
   "metadata": {},
   "outputs": [
    {
     "name": "stdout",
     "output_type": "stream",
     "text": [
      "Length 384\n"
     ]
    }
   ],
   "source": [
    "query_result = embeddings.embed_query(\"Hello world\")\n",
    "print(\"Length\", len(query_result))"
   ]
  },
  {
   "cell_type": "code",
   "execution_count": 15,
   "metadata": {},
   "outputs": [],
   "source": [
    "vec = embeddings.aembed_query('key terms of Acetaminophe')"
   ]
  },
  {
   "cell_type": "code",
   "execution_count": 16,
   "metadata": {},
   "outputs": [],
   "source": [
    "# query_result"
   ]
  },
  {
   "cell_type": "code",
   "execution_count": 17,
   "metadata": {},
   "outputs": [],
   "source": [
    "from langchain_pinecone import PineconeVectorStore"
   ]
  },
  {
   "cell_type": "code",
   "execution_count": 18,
   "metadata": {},
   "outputs": [],
   "source": [
    "#for storing vectors\n",
    "docsearch = PineconeVectorStore.from_documents(text_chunks, embeddings, index_name=INDEX_NAME)"
   ]
  },
  {
   "cell_type": "code",
   "execution_count": 19,
   "metadata": {},
   "outputs": [],
   "source": [
    "#for stored vectors rerieve\n",
    "docsearch = PineconeVectorStore.from_existing_index(embedding=embeddings, index_name=INDEX_NAME)"
   ]
  },
  {
   "cell_type": "code",
   "execution_count": 20,
   "metadata": {},
   "outputs": [
    {
     "name": "stdout",
     "output_type": "stream",
     "text": [
      "Result [Document(page_content='Description\\nAllergies are among the most common of medical', metadata={'page': 128.0, 'source': 'D:\\\\DSProjects\\\\MedicBot\\\\data\\\\Medical_book.pdf'}), Document(page_content='Allergies\\nDefinition\\nAllergies are abnormal reactions of the immune sys-\\ntem that occur in response to otherwise harmless sub-stances.\\nGALE ENCYCLOPEDIA OF MEDICINE 2 114AllergiesGEM - 0001 to 0432 - A  10/22/03 1:42 PM  Page 114', metadata={'page': 127.0, 'source': 'D:\\\\DSProjects\\\\MedicBot\\\\data\\\\Medical_book.pdf'}), Document(page_content='An allergy is a type of immune reaction. Normally,', metadata={'page': 128.0, 'source': 'D:\\\\DSProjects\\\\MedicBot\\\\data\\\\Medical_book.pdf'})]\n"
     ]
    }
   ],
   "source": [
    "query = \"What are Allergies\"\n",
    "\n",
    "docs=docsearch.similarity_search(query, k=3)\n",
    "\n",
    "print(\"Result\", docs)"
   ]
  },
  {
   "cell_type": "code",
   "execution_count": 21,
   "metadata": {},
   "outputs": [
    {
     "name": "stdout",
     "output_type": "stream",
     "text": [
      "Description\n",
      "Allergies are among the most common of medical\n"
     ]
    }
   ],
   "source": [
    "print(docs[0].page_content)"
   ]
  },
  {
   "cell_type": "code",
   "execution_count": 62,
   "metadata": {},
   "outputs": [],
   "source": [
    "prompt_template=\"\"\"\n",
    "you are brilliant doctor. \n",
    "Use the following pieces of information to answer the user's question. \n",
    "\n",
    "Context: {context}\n",
    "Question: {question}\n",
    "\n",
    "\n",
    "Only return the helpful answer below and nothing else.\n",
    "Helpful answer:\n",
    "\"\"\""
   ]
  },
  {
   "cell_type": "code",
   "execution_count": 63,
   "metadata": {},
   "outputs": [],
   "source": [
    "PROMPT=PromptTemplate(template=prompt_template, input_variables=[\"context\", \"question\"])\n",
    "chain_type_kwargs={\"prompt\": PROMPT}"
   ]
  },
  {
   "cell_type": "code",
   "execution_count": 56,
   "metadata": {},
   "outputs": [],
   "source": [
    "path = \"D:\\DSProjects\\MedicBot\\model\\llama-2-7b-chat.ggmlv3.q2_K.bin\"\n",
    "llm=CTransformers(model=path,\n",
    "                  model_type=\"llama\",\n",
    "                  config={'max_new_tokens':1000,\n",
    "                          'temperature':0.2,\n",
    "                          'repetition_penalty': 1.4})"
   ]
  },
  {
   "cell_type": "code",
   "execution_count": 25,
   "metadata": {},
   "outputs": [],
   "source": [
    "ret =docsearch.as_retriever(search_kwargs={'k': 5})"
   ]
  },
  {
   "cell_type": "code",
   "execution_count": 64,
   "metadata": {},
   "outputs": [],
   "source": [
    "qa=RetrievalQA.from_chain_type(\n",
    "    llm=llm, \n",
    "    chain_type=\"stuff\", \n",
    "    retriever=docsearch.as_retriever(search_kwargs={'k': 5}),\n",
    "    return_source_documents=True,\n",
    "    chain_type_kwargs= chain_type_kwargs\n",
    "    )"
   ]
  },
  {
   "cell_type": "code",
   "execution_count": null,
   "metadata": {},
   "outputs": [],
   "source": [
    "r = qa.invoke('what are types of Allergies?')"
   ]
  },
  {
   "cell_type": "code",
   "execution_count": 82,
   "metadata": {},
   "outputs": [
    {
     "name": "stdout",
     "output_type": "stream",
     "text": [
      "Types of allergies can be classified into several categories based on their causes or symptoms as follows; ☮️ Food allergy - an immune reaction to a specific food that is not tolerated by your body, resulting in adverse reactions such as hives. Common culprits include peanuts and tree nuts like almonds walnuts etc., fish shellfish crustaceans (shrimp lobster crab), milk eggs soy wheat corn rice oats barley pollen mold dust mites animal dander insect stings bee venom. \n",
      "☮️ Seasonal Allergies - an immune reaction to a specific season or time of year, such as spring allergens like pollution and tree pollination in the air during this period cause adverse reactions including sneezing itchy eyes runny nose congestion cough wheeze. Common culprits include birch trees oak elm linden poplar cottonwood silver maple willow etc., grasses like timothy Kentucky bluegrass Bermuda and zoysia, weeds such as ragweed pigweed plantain sagebrush Russian thistles.\n",
      "☮️ Insect Allergies - an immune reaction to insect stings or bites from certain types of bugs like bee wasps hornets yellowjackets fireants etc., which can cause adverse reactions such as swelling itching redness pain and difficulty breathing in severe cases.\n",
      "☮️ Contact Allergies - an immune reaction to a specific substance oral contact with exposure of touch, direct physical object that comes intoxic chemical compounderu2 type of the skin surface material such aso part of something you come-touchor item touched byproduct or noninj urtouch (nonallergenetic substance or particular allergenreaction involving direct contact point ons surfaces like pollen of touch, often repeated exposure inanimate object that comes intoxic chemical compoundable surface tox type of physical agent such as aero oral part of the skin caregermenvirusualrashorticomponentof substance or non-touchor direct contact with which can cause like pollen of touch, usually harmlasma inanimate object that comes intoxic chemical exposure (nonallergenetic substance tox substances such aso type of the skin surface encountered allergenreaction involving physical item coming intoxic substance oral part of something you come-touchor direct contact with which can cause like pollen of touch, often noninj urtouch or allergicomponent inanimate object that comes intox chemical exposure (nonallergeneticantigenically touched surface such aso type of skin irritualr substance toxic agent coming into the body part of contact with which can cause like pollen of touch, direct physical item oral point ons surfaces or allergicomponent inanimate object that comes intox exposurethingsensubsteroallergenetic (non-touchor skin surface such aso substance toxic chemical irritualr type of contact with which can cause like pollen of touch, direct physical item coming into the body part of thing oral substances.\n",
      "\n",
      " \n"
     ]
    }
   ],
   "source": [
    "print(r['result'])"
   ]
  },
  {
   "cell_type": "code",
   "execution_count": 89,
   "metadata": {},
   "outputs": [
    {
     "name": "stdout",
     "output_type": "stream",
     "text": [
      "Response: Coronary angiography (also called an arterial angiosome) is a diagnostic test used to evaluate blood flow through coronary artery, which supply oxygen-rich blood to heart muscle during exercise or stress. It involves injection of contrast dye into the catheter inserted in leg and chest area under fluoroscopy guidance followed by X-ray imaging for visualization of vessels inside body\n",
      "Coronary disease occurs when there is a blockage (atherosclerosis) that reduces blood flow to heart muscle, leading symptoms such as fatigue shortness breath or pain during exertion.\n"
     ]
    }
   ],
   "source": [
    "while True:\n",
    "    user_input = input(\"Input Prompt:\")  \n",
    "    if user_input.lower() == 'exit':    \n",
    "        break                           \n",
    "    result = qa.invoke({\"query\": user_input})  \n",
    "    print(\"Response:\", result[\"result\"])  \n"
   ]
  }
 ],
 "metadata": {
  "kernelspec": {
   "display_name": "mchatbot",
   "language": "python",
   "name": "python3"
  },
  "language_info": {
   "codemirror_mode": {
    "name": "ipython",
    "version": 3
   },
   "file_extension": ".py",
   "mimetype": "text/x-python",
   "name": "python",
   "nbconvert_exporter": "python",
   "pygments_lexer": "ipython3",
   "version": "3.11.7"
  }
 },
 "nbformat": 4,
 "nbformat_minor": 2
}
